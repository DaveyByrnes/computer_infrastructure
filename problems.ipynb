{
 "cells": [
  {
   "cell_type": "markdown",
   "id": "ccc5c185",
   "metadata": {},
   "source": [
    "# Problem Notebook\n",
    "\n",
    "By David Byrne\n",
    "\n",
    "## Note to author:\n",
    "\n",
    "Use proper levelled markdown headings to identify between problems. Use small cells. Write clean, readable and efficient code with meaningful variable names and consistent formatting. Remove this sub-heading for deadline."
   ]
  },
  {
   "cell_type": "markdown",
   "id": "105f335c",
   "metadata": {},
   "source": []
  },
  {
   "cell_type": "markdown",
   "id": "4677f470",
   "metadata": {},
   "source": [
    "*Requirements*\n",
    "\n",
    "ipython\n",
    "numpy\n",
    "scipy\n",
    "statsmodels\n",
    "matplotlib\n",
    "pandas\n",
    "seaborn\n",
    "sympy\n",
    "nose\n",
    "scikit-learn\n",
    "qiskit[visualization]\n",
    "yfinance"
   ]
  },
  {
   "cell_type": "code",
   "execution_count": null,
   "id": "e5801de0",
   "metadata": {},
   "outputs": [],
   "source": []
  },
  {
   "cell_type": "markdown",
   "id": "ed187a64",
   "metadata": {},
   "source": [
    "## Problem 1\n",
    "\n",
    "**Using the yfinance Python package, write a function called get_data() that downloads all hourly data for the previous five days for the five FAANG stocks:**\n",
    "\n",
    "* Facebook (META)\n",
    "* Apple (AAPL)\n",
    "* Amazon (AMZN)\n",
    "* Netflix (NFLX)\n",
    "* Google (GOOG)\n",
    "\n",
    "\n",
    "**The function should save the data into a folder called data in the root of your repository using a filename with the format YYYYMMDD-HHmmss.csv where YYYYMMDD is the four-digit year (e.g. 2025), followed by the two-digit month (e.g. 09 for September), followed by the two digit day, and HHmmss is hour, minutes, seconds. Create the data folder if you don't already have one.**\n"
   ]
  },
  {
   "cell_type": "markdown",
   "id": "17313baa",
   "metadata": {},
   "source": [
    "### Problem Solving\n",
    "\n",
    "**File Creation**\n",
    "\n",
    "1. I created my `data` folder.\n",
    "2. Next, I imported `datetime` to begin creating\n",
    "3. I looked online to find further information about using `datetime` effectively - see [Programiz documentation](https://www.programiz.com/python-programming/datetime/strftime). \n",
    "\n"
   ]
  },
  {
   "cell_type": "markdown",
   "id": "ea1e2c95",
   "metadata": {},
   "source": [
    "**Using yfinance**\n",
    "\n",
    "1. I installed `yfinance`\n",
    "2. I researched on using `yfinance`, finding documentation on [Geeks for Geeks](https://www.geeksforgeeks.org/python/how-to-use-yfinance-api-with-python/).\n",
    "3. Following documentation, I defined the tickers and created a data function to quickly draw up the required info about each ticker."
   ]
  },
  {
   "cell_type": "markdown",
   "id": "61468128",
   "metadata": {},
   "source": [
    "**Combining File Creation & yfinance**\n"
   ]
  },
  {
   "cell_type": "code",
   "execution_count": null,
   "id": "87f3de9b",
   "metadata": {},
   "outputs": [],
   "source": []
  },
  {
   "cell_type": "code",
   "execution_count": 2,
   "id": "1da6a454",
   "metadata": {},
   "outputs": [
    {
     "name": "stdout",
     "output_type": "stream",
     "text": [
      "20251005-154139\n"
     ]
    }
   ],
   "source": [
    "from datetime import datetime\n",
    "import os\n",
    "# Datetime is to give the filenames their necessary year, month, days, hours, minutes and seconds\n",
    "\n",
    "now = datetime.now()\n",
    "\n",
    "timestamp = now.strftime(\"%Y%m%d-%H%M%S\")\n",
    "print(timestamp)\n",
    "\n",
    "file = f\"data/{timestamp}.csv\" # creates csv file with timestamp name\n",
    "\n",
    "with open(file, \"w\") as f:\n",
    "    f.write(\"Test please work\")"
   ]
  },
  {
   "cell_type": "code",
   "execution_count": 3,
   "id": "87fb6bb1",
   "metadata": {},
   "outputs": [
    {
     "name": "stdout",
     "output_type": "stream",
     "text": [
      "Collecting yfinance\n",
      "  Downloading yfinance-0.2.66-py2.py3-none-any.whl.metadata (6.0 kB)\n",
      "Requirement already satisfied: pandas>=1.3.0 in c:\\users\\daveb\\anaconda3\\lib\\site-packages (from yfinance) (2.2.2)\n",
      "Requirement already satisfied: numpy>=1.16.5 in c:\\users\\daveb\\anaconda3\\lib\\site-packages (from yfinance) (1.26.4)\n",
      "Requirement already satisfied: requests>=2.31 in c:\\users\\daveb\\anaconda3\\lib\\site-packages (from yfinance) (2.32.3)\n",
      "Collecting multitasking>=0.0.7 (from yfinance)\n",
      "  Downloading multitasking-0.0.12.tar.gz (19 kB)\n",
      "  Preparing metadata (setup.py): started\n",
      "  Preparing metadata (setup.py): finished with status 'done'\n",
      "Requirement already satisfied: platformdirs>=2.0.0 in c:\\users\\daveb\\anaconda3\\lib\\site-packages (from yfinance) (3.10.0)\n",
      "Requirement already satisfied: pytz>=2022.5 in c:\\users\\daveb\\anaconda3\\lib\\site-packages (from yfinance) (2024.1)\n",
      "Requirement already satisfied: frozendict>=2.3.4 in c:\\users\\daveb\\anaconda3\\lib\\site-packages (from yfinance) (2.4.2)\n",
      "Collecting peewee>=3.16.2 (from yfinance)\n",
      "  Downloading peewee-3.18.2.tar.gz (949 kB)\n",
      "     ---------------------------------------- 0.0/949.2 kB ? eta -:--:--\n",
      "     ------------------------------------- 949.2/949.2 kB 11.1 MB/s eta 0:00:00\n",
      "  Installing build dependencies: started\n",
      "  Installing build dependencies: finished with status 'done'\n",
      "  Getting requirements to build wheel: started\n",
      "  Getting requirements to build wheel: finished with status 'done'\n",
      "  Preparing metadata (pyproject.toml): started\n",
      "  Preparing metadata (pyproject.toml): finished with status 'done'\n",
      "Requirement already satisfied: beautifulsoup4>=4.11.1 in c:\\users\\daveb\\anaconda3\\lib\\site-packages (from yfinance) (4.12.3)\n",
      "Collecting curl_cffi>=0.7 (from yfinance)\n",
      "  Downloading curl_cffi-0.13.0-cp39-abi3-win_amd64.whl.metadata (13 kB)\n",
      "Requirement already satisfied: protobuf>=3.19.0 in c:\\users\\daveb\\anaconda3\\lib\\site-packages (from yfinance) (4.25.3)\n",
      "Collecting websockets>=13.0 (from yfinance)\n",
      "  Downloading websockets-15.0.1-cp312-cp312-win_amd64.whl.metadata (7.0 kB)\n",
      "Requirement already satisfied: soupsieve>1.2 in c:\\users\\daveb\\anaconda3\\lib\\site-packages (from beautifulsoup4>=4.11.1->yfinance) (2.5)\n",
      "Requirement already satisfied: cffi>=1.12.0 in c:\\users\\daveb\\anaconda3\\lib\\site-packages (from curl_cffi>=0.7->yfinance) (1.17.1)\n",
      "Requirement already satisfied: certifi>=2024.2.2 in c:\\users\\daveb\\anaconda3\\lib\\site-packages (from curl_cffi>=0.7->yfinance) (2024.12.14)\n",
      "Requirement already satisfied: python-dateutil>=2.8.2 in c:\\users\\daveb\\anaconda3\\lib\\site-packages (from pandas>=1.3.0->yfinance) (2.9.0.post0)\n",
      "Requirement already satisfied: tzdata>=2022.7 in c:\\users\\daveb\\anaconda3\\lib\\site-packages (from pandas>=1.3.0->yfinance) (2023.3)\n",
      "Requirement already satisfied: charset-normalizer<4,>=2 in c:\\users\\daveb\\anaconda3\\lib\\site-packages (from requests>=2.31->yfinance) (3.3.2)\n",
      "Requirement already satisfied: idna<4,>=2.5 in c:\\users\\daveb\\anaconda3\\lib\\site-packages (from requests>=2.31->yfinance) (3.7)\n",
      "Requirement already satisfied: urllib3<3,>=1.21.1 in c:\\users\\daveb\\anaconda3\\lib\\site-packages (from requests>=2.31->yfinance) (2.2.3)\n",
      "Requirement already satisfied: pycparser in c:\\users\\daveb\\anaconda3\\lib\\site-packages (from cffi>=1.12.0->curl_cffi>=0.7->yfinance) (2.21)\n",
      "Requirement already satisfied: six>=1.5 in c:\\users\\daveb\\anaconda3\\lib\\site-packages (from python-dateutil>=2.8.2->pandas>=1.3.0->yfinance) (1.16.0)\n",
      "Downloading yfinance-0.2.66-py2.py3-none-any.whl (123 kB)\n",
      "Downloading curl_cffi-0.13.0-cp39-abi3-win_amd64.whl (1.6 MB)\n",
      "   ---------------------------------------- 0.0/1.6 MB ? eta -:--:--\n",
      "   ---------------------------------------- 1.6/1.6 MB 12.4 MB/s eta 0:00:00\n",
      "Downloading websockets-15.0.1-cp312-cp312-win_amd64.whl (176 kB)\n",
      "Building wheels for collected packages: multitasking, peewee\n",
      "  Building wheel for multitasking (setup.py): started\n",
      "  Building wheel for multitasking (setup.py): finished with status 'done'\n",
      "  Created wheel for multitasking: filename=multitasking-0.0.12-py3-none-any.whl size=15617 sha256=a821001443c544d7eb72dbaf8dcaeaba760c5953594f775fbd7cc55e2ac47e2e\n",
      "  Stored in directory: c:\\users\\daveb\\appdata\\local\\pip\\cache\\wheels\\cc\\bd\\6f\\664d62c99327abeef7d86489e6631cbf45b56fbf7ef1d6ef00\n",
      "  Building wheel for peewee (pyproject.toml): started\n",
      "  Building wheel for peewee (pyproject.toml): finished with status 'done'\n",
      "  Created wheel for peewee: filename=peewee-3.18.2-py3-none-any.whl size=139153 sha256=7ecb4d9fd2fd4f87a01b9b846d95b4246a3cdf033fc7d9da6c7936e02391bd06\n",
      "  Stored in directory: c:\\users\\daveb\\appdata\\local\\pip\\cache\\wheels\\d1\\df\\a9\\0202b051c65b11c992dd6db9f2babdd2c44ec7d35d511be5d3\n",
      "Successfully built multitasking peewee\n",
      "Installing collected packages: peewee, multitasking, websockets, curl_cffi, yfinance\n",
      "Successfully installed curl_cffi-0.13.0 multitasking-0.0.12 peewee-3.18.2 websockets-15.0.1 yfinance-0.2.66\n",
      "Note: you may need to restart the kernel to use updated packages.\n"
     ]
    }
   ],
   "source": [
    "%pip install yfinance"
   ]
  },
  {
   "cell_type": "code",
   "execution_count": 4,
   "id": "30aa6742",
   "metadata": {},
   "outputs": [
    {
     "name": "stderr",
     "output_type": "stream",
     "text": [
      "C:\\Users\\daveb\\AppData\\Local\\Temp\\ipykernel_7468\\1304065108.py:8: FutureWarning: YF.download() has changed argument auto_adjust default to True\n",
      "  data = yf.download(tickers, interval=\"1h\", period=\"5d\")\n",
      "[*********************100%***********************]  5 of 5 completed"
     ]
    },
    {
     "name": "stdout",
     "output_type": "stream",
     "text": [
      "Price                           Close                                      \\\n",
      "Ticker                           AAPL        AMZN        GOOG        META   \n",
      "Datetime                                                                    \n",
      "2025-09-29 13:30:00+00:00  254.219894  221.430099  249.835007  747.156616   \n",
      "2025-09-29 14:30:00+00:00  253.470001  220.676300  248.300003  746.375000   \n",
      "2025-09-29 15:30:00+00:00  253.660004  221.361298  248.570007  747.289978   \n",
      "2025-09-29 16:30:00+00:00  253.399994  221.770004  245.906006  744.145020   \n",
      "2025-09-29 17:30:00+00:00  254.570007  221.514999  245.949997  743.849976   \n",
      "\n",
      "Price                                         High                          \\\n",
      "Ticker                            NFLX        AAPL        AMZN        GOOG   \n",
      "Datetime                                                                     \n",
      "2025-09-29 13:30:00+00:00  1221.579956  254.500000  222.089996  251.648300   \n",
      "2025-09-29 14:30:00+00:00  1212.250000  254.240005  221.538803  249.949997   \n",
      "2025-09-29 15:30:00+00:00  1208.209961  254.070007  221.600296  248.869995   \n",
      "2025-09-29 16:30:00+00:00  1205.810059  253.779907  221.830002  248.720001   \n",
      "2025-09-29 17:30:00+00:00  1201.894897  254.615005  221.800003  246.139999   \n",
      "\n",
      "Price                                               ...        Open  \\\n",
      "Ticker                           META         NFLX  ...        AAPL   \n",
      "Datetime                                            ...               \n",
      "2025-09-29 13:30:00+00:00  750.359985  1223.189941  ...  254.000000   \n",
      "2025-09-29 14:30:00+00:00  748.969971  1224.439941  ...  254.205002   \n",
      "2025-09-29 15:30:00+00:00  749.603271  1214.599976  ...  253.466507   \n",
      "2025-09-29 16:30:00+00:00  748.223206  1209.510010  ...  253.669998   \n",
      "2025-09-29 17:30:00+00:00  744.650024  1206.310059  ...  253.389999   \n",
      "\n",
      "Price                                                                       \\\n",
      "Ticker                           AMZN        GOOG        META         NFLX   \n",
      "Datetime                                                                     \n",
      "2025-09-29 13:30:00+00:00  220.000000  248.000000  748.000000  1203.500000   \n",
      "2025-09-29 14:30:00+00:00  221.449997  249.860001  747.207275  1221.089966   \n",
      "2025-09-29 15:30:00+00:00  220.710007  248.309998  746.320007  1212.000000   \n",
      "2025-09-29 16:30:00+00:00  221.350006  248.565002  747.239990  1208.040039   \n",
      "2025-09-29 17:30:00+00:00  221.779999  245.899994  744.109985  1206.285034   \n",
      "\n",
      "Price                       Volume                                     \n",
      "Ticker                        AAPL     AMZN     GOOG     META    NFLX  \n",
      "Datetime                                                               \n",
      "2025-09-29 13:30:00+00:00  6306062  6887387  2981083  1489717  670965  \n",
      "2025-09-29 14:30:00+00:00  2834864  2847139  1218148   612344  166462  \n",
      "2025-09-29 15:30:00+00:00  2275242  1914981   866075   514270  149648  \n",
      "2025-09-29 16:30:00+00:00  1744854  2992178  1947695   417676  122398  \n",
      "2025-09-29 17:30:00+00:00  2297052  1824169  1447095   500908  150507  \n",
      "\n",
      "[5 rows x 25 columns]\n"
     ]
    },
    {
     "name": "stderr",
     "output_type": "stream",
     "text": [
      "\n"
     ]
    }
   ],
   "source": [
    "import yfinance as yf\n",
    "import pandas as pd\n",
    "\n",
    "# create tickers\n",
    "\n",
    "tickers = [\"META\", \"AAPL\", \"AMZN\", \"NFLX\", \"GOOG\"]\n",
    "\n",
    "data = yf.download(tickers, interval=\"1h\", period=\"5d\")\n",
    "\n",
    "print(data.head())\n",
    "\n"
   ]
  },
  {
   "cell_type": "code",
   "execution_count": 5,
   "id": "9174edfb",
   "metadata": {},
   "outputs": [
    {
     "name": "stderr",
     "output_type": "stream",
     "text": [
      "C:\\Users\\daveb\\AppData\\Local\\Temp\\ipykernel_7468\\374070458.py:6: FutureWarning: YF.download() has changed argument auto_adjust default to True\n",
      "  data = yf.download(tickers, interval=\"1h\", period=\"5d\")\n",
      "[*********************100%***********************]  5 of 5 completed"
     ]
    },
    {
     "name": "stdout",
     "output_type": "stream",
     "text": [
      "The data has been saved\n"
     ]
    },
    {
     "name": "stderr",
     "output_type": "stream",
     "text": [
      "\n"
     ]
    }
   ],
   "source": [
    "timestamp = now.strftime(\"%Y%m%d-%H%M%S\")\n",
    "file = f\"data/{timestamp}.csv\" # creates csv file with timestamp name\n",
    "\n",
    "tickers = [\"META\", \"AAPL\", \"AMZN\", \"NFLX\", \"GOOG\"]\n",
    "\n",
    "data = yf.download(tickers, interval=\"1h\", period=\"5d\")\n",
    "\n",
    "data.to_csv(file)\n",
    "\n",
    "print(f\"The data has been saved\")"
   ]
  },
  {
   "cell_type": "markdown",
   "id": "4836b057",
   "metadata": {},
   "source": [
    "## Problem 2\n",
    "\n",
    "**Write a function called `plot_data()` that opens the latest data file in the `data` folder and, on one plot, plots the `Close` prices for each of the five stocks. The plot should include axis labels, a legend, and the date as a title. The function should save the plot into a `plots` folder in the root of your repository using a filename in the format `YYYYMMDD-HHmmss.png`. Create the `plots` folder if you don't already have one.**\n",
    "\n"
   ]
  },
  {
   "cell_type": "markdown",
   "id": "7570177d",
   "metadata": {},
   "source": [
    "reference - https://www.w3schools.com/python/ref_list_sort.asp\n",
    "\n",
    "*clean up later*"
   ]
  },
  {
   "cell_type": "code",
   "execution_count": 6,
   "id": "fa99f6e0",
   "metadata": {},
   "outputs": [
    {
     "name": "stdout",
     "output_type": "stream",
     "text": [
      "                       Price               Close             Close.1  \\\n",
      "0                     Ticker                AAPL                AMZN   \n",
      "1                   Datetime                 NaN                 NaN   \n",
      "2  2025-09-29 13:30:00+00:00   254.2198944091797   221.4300994873047   \n",
      "3  2025-09-29 14:30:00+00:00  253.47000122070312  220.67630004882812   \n",
      "4  2025-09-29 15:30:00+00:00  253.66000366210938  221.36129760742188   \n",
      "\n",
      "              Close.2            Close.3             Close.4  \\\n",
      "0                GOOG               META                NFLX   \n",
      "1                 NaN                NaN                 NaN   \n",
      "2   249.8350067138672  747.1566162109375  1221.5799560546875   \n",
      "3   248.3000030517578            746.375             1212.25   \n",
      "4  248.57000732421875  747.2899780273438     1208.2099609375   \n",
      "\n",
      "                 High              High.1              High.2  \\\n",
      "0                AAPL                AMZN                GOOG   \n",
      "1                 NaN                 NaN                 NaN   \n",
      "2               254.5  222.08999633789062  251.64830017089844   \n",
      "3  254.24000549316406  221.53880310058594   249.9499969482422   \n",
      "4  254.07000732421875   221.6002960205078   248.8699951171875   \n",
      "\n",
      "              High.3  ...               Open             Open.1  \\\n",
      "0               META  ...               AAPL               AMZN   \n",
      "1                NaN  ...                NaN                NaN   \n",
      "2  750.3599853515625  ...              254.0              220.0   \n",
      "3   748.969970703125  ...  254.2050018310547  221.4499969482422   \n",
      "4   749.603271484375  ...  253.4665069580078  220.7100067138672   \n",
      "\n",
      "               Open.2             Open.3              Open.4   Volume  \\\n",
      "0                GOOG               META                NFLX     AAPL   \n",
      "1                 NaN                NaN                 NaN      NaN   \n",
      "2               248.0              748.0              1203.5  6306062   \n",
      "3  249.86000061035156   747.207275390625  1221.0899658203125  2834864   \n",
      "4  248.30999755859375  746.3200073242188              1212.0  2275242   \n",
      "\n",
      "  Volume.1 Volume.2 Volume.3 Volume.4  \n",
      "0     AMZN     GOOG     META     NFLX  \n",
      "1      NaN      NaN      NaN      NaN  \n",
      "2  6887387  2981083  1489717   670965  \n",
      "3  2847139  1218148   612344   166462  \n",
      "4  1914981   866075   514270   149648  \n",
      "\n",
      "[5 rows x 26 columns]\n"
     ]
    }
   ],
   "source": [
    "import os\n",
    "\n",
    "# allows you to see the files in the directory\n",
    "files = os.listdir(\"data\")\n",
    "\n",
    "# read only csv files\n",
    "csv_files = [f for f in files if f.endswith(\".csv\")]\n",
    "\n",
    "# sort by latest filename\n",
    "sorted_files = sorted(csv_files)\n",
    "latest_file = sorted_files[-1]\n",
    "\n",
    "# read the latest file\n",
    "data = pd.read_csv(f\"data/{latest_file}\")\n",
    "print(data.head())\n",
    "\n"
   ]
  }
 ],
 "metadata": {
  "kernelspec": {
   "display_name": "base",
   "language": "python",
   "name": "python3"
  },
  "language_info": {
   "codemirror_mode": {
    "name": "ipython",
    "version": 3
   },
   "file_extension": ".py",
   "mimetype": "text/x-python",
   "name": "python",
   "nbconvert_exporter": "python",
   "pygments_lexer": "ipython3",
   "version": "3.12.7"
  }
 },
 "nbformat": 4,
 "nbformat_minor": 5
}
