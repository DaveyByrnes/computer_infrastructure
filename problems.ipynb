{
 "cells": [
  {
   "cell_type": "markdown",
   "id": "ccc5c185",
   "metadata": {},
   "source": [
    "# Problem Notebook\n",
    "\n",
    "By David Byrne\n",
    "\n",
    "## Note to author:\n",
    "\n",
    "Use proper levelled markdown headings to identify between problems. Use small cells. Write clean, readable and efficient code with meaningful variable names and consistent formatting. Remove this sub-heading for deadline."
   ]
  },
  {
   "cell_type": "markdown",
   "id": "105f335c",
   "metadata": {},
   "source": []
  },
  {
   "cell_type": "code",
   "execution_count": null,
   "id": "e5801de0",
   "metadata": {},
   "outputs": [],
   "source": []
  },
  {
   "cell_type": "markdown",
   "id": "ed187a64",
   "metadata": {},
   "source": [
    "## Problem 1\n",
    "\n",
    "**Using the yfinance Python package, write a function called get_data() that downloads all hourly data for the previous five days for the five FAANG stocks:**\n",
    "\n",
    "* Facebook (META)\n",
    "* Apple (AAPL)\n",
    "* Amazon (AMZN)\n",
    "* Netflix (NFLX)\n",
    "* Google (GOOG)\n",
    "\n",
    "\n",
    "**The function should save the data into a folder called data in the root of your repository using a filename with the format YYYYMMDD-HHmmss.csv where YYYYMMDD is the four-digit year (e.g. 2025), followed by the two-digit month (e.g. 09 for September), followed by the two digit day, and HHmmss is hour, minutes, seconds. Create the data folder if you don't already have one.**\n"
   ]
  },
  {
   "cell_type": "markdown",
   "id": "17313baa",
   "metadata": {},
   "source": [
    "### Problem Solving\n",
    "\n",
    "**File Creation**\n",
    "\n",
    "1. I created my `data` folder.\n",
    "2. Next, I imported `datetime` to begin creating\n",
    "3. I looked online to find further information about using `datetime` effectively - see [Programiz documentation](https://www.programiz.com/python-programming/datetime/strftime). \n",
    "\n"
   ]
  },
  {
   "cell_type": "code",
   "execution_count": 12,
   "id": "1da6a454",
   "metadata": {},
   "outputs": [
    {
     "name": "stdout",
     "output_type": "stream",
     "text": [
      "20250929-194945\n"
     ]
    }
   ],
   "source": [
    "from datetime import datetime\n",
    "import os\n",
    "# Datetime is to give the filenames their necessary year, month, days, hours, minutes and seconds\n",
    "\n",
    "now = datetime.now()\n",
    "\n",
    "timestamp = now.strftime(\"%Y%m%d-%H%M%S\")\n",
    "print(timestamp)\n",
    "\n",
    "file = f\"data/{timestamp}.csv\" # creates csv file with timestamp name\n",
    "\n",
    "with open(file, \"w\") as f:\n",
    "    f.write(\"Test please work\")"
   ]
  }
 ],
 "metadata": {
  "kernelspec": {
   "display_name": "Python 3",
   "language": "python",
   "name": "python3"
  },
  "language_info": {
   "codemirror_mode": {
    "name": "ipython",
    "version": 3
   },
   "file_extension": ".py",
   "mimetype": "text/x-python",
   "name": "python",
   "nbconvert_exporter": "python",
   "pygments_lexer": "ipython3",
   "version": "3.12.1"
  }
 },
 "nbformat": 4,
 "nbformat_minor": 5
}
