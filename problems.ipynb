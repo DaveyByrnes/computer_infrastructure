{
 "cells": [
  {
   "cell_type": "markdown",
   "id": "ccc5c185",
   "metadata": {},
   "source": [
    "# Problem Notebook\n",
    "\n",
    "By David Byrne\n",
    "\n",
    "## Note to author:\n",
    "\n",
    "Use proper levelled markdown headings to identify between problems. Use small cells. Write clean, readable and efficient code with meaningful variable names and consistent formatting. Remove this sub-heading for deadline."
   ]
  },
  {
   "cell_type": "markdown",
   "id": "105f335c",
   "metadata": {},
   "source": []
  },
  {
   "cell_type": "markdown",
   "id": "4677f470",
   "metadata": {},
   "source": [
    "*Requirements*\n",
    "\n",
    "ipython\n",
    "numpy\n",
    "scipy\n",
    "statsmodels\n",
    "matplotlib\n",
    "pandas\n",
    "seaborn\n",
    "sympy\n",
    "nose\n",
    "scikit-learn\n",
    "qiskit[visualization]\n",
    "yfinance"
   ]
  },
  {
   "cell_type": "code",
   "execution_count": null,
   "id": "e5801de0",
   "metadata": {},
   "outputs": [],
   "source": []
  },
  {
   "cell_type": "markdown",
   "id": "ed187a64",
   "metadata": {},
   "source": [
    "## Problem 1\n",
    "\n",
    "**Using the yfinance Python package, write a function called get_data() that downloads all hourly data for the previous five days for the five FAANG stocks:**\n",
    "\n",
    "* Facebook (META)\n",
    "* Apple (AAPL)\n",
    "* Amazon (AMZN)\n",
    "* Netflix (NFLX)\n",
    "* Google (GOOG)\n",
    "\n",
    "\n",
    "**The function should save the data into a folder called data in the root of your repository using a filename with the format YYYYMMDD-HHmmss.csv where YYYYMMDD is the four-digit year (e.g. 2025), followed by the two-digit month (e.g. 09 for September), followed by the two digit day, and HHmmss is hour, minutes, seconds. Create the data folder if you don't already have one.**\n"
   ]
  },
  {
   "cell_type": "markdown",
   "id": "17313baa",
   "metadata": {},
   "source": [
    "### Problem Solving\n",
    "\n",
    "**File Creation**\n",
    "\n",
    "1. I created my `data` folder.\n",
    "2. Next, I imported `datetime` to begin creating\n",
    "3. I looked online to find further information about using `datetime` effectively - see [Programiz documentation](https://www.programiz.com/python-programming/datetime/strftime). \n",
    "\n"
   ]
  },
  {
   "cell_type": "markdown",
   "id": "ea1e2c95",
   "metadata": {},
   "source": [
    "**Using yfinance**\n",
    "\n",
    "1. I installed `yfinance`\n",
    "2. I researched on using `yfinance`, finding documentation on [Geeks for Geeks](https://www.geeksforgeeks.org/python/how-to-use-yfinance-api-with-python/).\n",
    "3. Following documentation, I defined the tickers and created a data function to quickly draw up the required info about each ticker."
   ]
  },
  {
   "cell_type": "markdown",
   "id": "61468128",
   "metadata": {},
   "source": [
    "**Combining File Creation & yfinance**\n"
   ]
  },
  {
   "cell_type": "code",
   "execution_count": null,
   "id": "87f3de9b",
   "metadata": {},
   "outputs": [],
   "source": []
  },
  {
   "cell_type": "code",
   "execution_count": 6,
   "id": "1da6a454",
   "metadata": {},
   "outputs": [
    {
     "name": "stdout",
     "output_type": "stream",
     "text": [
      "20251015-190309\n"
     ]
    }
   ],
   "source": [
    "from datetime import datetime\n",
    "import os\n",
    "# Datetime is to give the filenames their necessary year, month, days, hours, minutes and seconds\n",
    "\n",
    "now = datetime.now()\n",
    "\n",
    "timestamp = now.strftime(\"%Y%m%d-%H%M%S\")\n",
    "print(timestamp)\n",
    "\n",
    "file = f\"data/{timestamp}.csv\" # creates csv file with timestamp name\n",
    "\n",
    "with open(file, \"w\") as f:\n",
    "    f.write(\"Test please work\")"
   ]
  },
  {
   "cell_type": "code",
   "execution_count": 7,
   "id": "87fb6bb1",
   "metadata": {},
   "outputs": [
    {
     "name": "stdout",
     "output_type": "stream",
     "text": [
      "Requirement already satisfied: yfinance in c:\\users\\daveb\\anaconda3\\lib\\site-packages (0.2.66)\n",
      "Requirement already satisfied: pandas>=1.3.0 in c:\\users\\daveb\\anaconda3\\lib\\site-packages (from yfinance) (2.2.2)\n",
      "Requirement already satisfied: numpy>=1.16.5 in c:\\users\\daveb\\anaconda3\\lib\\site-packages (from yfinance) (1.26.4)\n",
      "Requirement already satisfied: requests>=2.31 in c:\\users\\daveb\\anaconda3\\lib\\site-packages (from yfinance) (2.32.3)\n",
      "Requirement already satisfied: multitasking>=0.0.7 in c:\\users\\daveb\\anaconda3\\lib\\site-packages (from yfinance) (0.0.12)\n",
      "Requirement already satisfied: platformdirs>=2.0.0 in c:\\users\\daveb\\anaconda3\\lib\\site-packages (from yfinance) (3.10.0)\n",
      "Requirement already satisfied: pytz>=2022.5 in c:\\users\\daveb\\anaconda3\\lib\\site-packages (from yfinance) (2024.1)\n",
      "Requirement already satisfied: frozendict>=2.3.4 in c:\\users\\daveb\\anaconda3\\lib\\site-packages (from yfinance) (2.4.2)\n",
      "Requirement already satisfied: peewee>=3.16.2 in c:\\users\\daveb\\anaconda3\\lib\\site-packages (from yfinance) (3.18.2)\n",
      "Requirement already satisfied: beautifulsoup4>=4.11.1 in c:\\users\\daveb\\anaconda3\\lib\\site-packages (from yfinance) (4.12.3)\n",
      "Requirement already satisfied: curl_cffi>=0.7 in c:\\users\\daveb\\anaconda3\\lib\\site-packages (from yfinance) (0.13.0)\n",
      "Requirement already satisfied: protobuf>=3.19.0 in c:\\users\\daveb\\anaconda3\\lib\\site-packages (from yfinance) (4.25.3)\n",
      "Requirement already satisfied: websockets>=13.0 in c:\\users\\daveb\\anaconda3\\lib\\site-packages (from yfinance) (15.0.1)\n",
      "Requirement already satisfied: soupsieve>1.2 in c:\\users\\daveb\\anaconda3\\lib\\site-packages (from beautifulsoup4>=4.11.1->yfinance) (2.5)\n",
      "Requirement already satisfied: cffi>=1.12.0 in c:\\users\\daveb\\anaconda3\\lib\\site-packages (from curl_cffi>=0.7->yfinance) (1.17.1)\n",
      "Requirement already satisfied: certifi>=2024.2.2 in c:\\users\\daveb\\anaconda3\\lib\\site-packages (from curl_cffi>=0.7->yfinance) (2024.12.14)\n",
      "Requirement already satisfied: python-dateutil>=2.8.2 in c:\\users\\daveb\\anaconda3\\lib\\site-packages (from pandas>=1.3.0->yfinance) (2.9.0.post0)\n",
      "Requirement already satisfied: tzdata>=2022.7 in c:\\users\\daveb\\anaconda3\\lib\\site-packages (from pandas>=1.3.0->yfinance) (2023.3)\n",
      "Requirement already satisfied: charset-normalizer<4,>=2 in c:\\users\\daveb\\anaconda3\\lib\\site-packages (from requests>=2.31->yfinance) (3.3.2)\n",
      "Requirement already satisfied: idna<4,>=2.5 in c:\\users\\daveb\\anaconda3\\lib\\site-packages (from requests>=2.31->yfinance) (3.7)\n",
      "Requirement already satisfied: urllib3<3,>=1.21.1 in c:\\users\\daveb\\anaconda3\\lib\\site-packages (from requests>=2.31->yfinance) (2.2.3)\n",
      "Requirement already satisfied: pycparser in c:\\users\\daveb\\anaconda3\\lib\\site-packages (from cffi>=1.12.0->curl_cffi>=0.7->yfinance) (2.21)\n",
      "Requirement already satisfied: six>=1.5 in c:\\users\\daveb\\anaconda3\\lib\\site-packages (from python-dateutil>=2.8.2->pandas>=1.3.0->yfinance) (1.16.0)\n",
      "Note: you may need to restart the kernel to use updated packages.\n"
     ]
    }
   ],
   "source": [
    "%pip install yfinance"
   ]
  },
  {
   "cell_type": "code",
   "execution_count": 8,
   "id": "30aa6742",
   "metadata": {},
   "outputs": [
    {
     "name": "stderr",
     "output_type": "stream",
     "text": [
      "C:\\Users\\daveb\\AppData\\Local\\Temp\\ipykernel_20304\\1304065108.py:8: FutureWarning: YF.download() has changed argument auto_adjust default to True\n",
      "  data = yf.download(tickers, interval=\"1h\", period=\"5d\")\n",
      "[*********************100%***********************]  5 of 5 completed"
     ]
    },
    {
     "name": "stdout",
     "output_type": "stream",
     "text": [
      "Price                           Close                                      \\\n",
      "Ticker                           AAPL        AMZN        GOOG        META   \n",
      "Datetime                                                                    \n",
      "2025-10-09 13:30:00+00:00  254.979996  222.699997  242.410004  719.690002   \n",
      "2025-10-09 14:30:00+00:00  254.895004  223.100006  240.464996  719.403198   \n",
      "2025-10-09 15:30:00+00:00  253.845001  224.162994  241.720001  727.580017   \n",
      "2025-10-09 16:30:00+00:00  253.457596  223.860001  241.509995  726.179993   \n",
      "2025-10-09 17:30:00+00:00  253.559998  226.270004  241.285004  730.280029   \n",
      "\n",
      "Price                                         High                          \\\n",
      "Ticker                            NFLX        AAPL        AMZN        GOOG   \n",
      "Datetime                                                                     \n",
      "2025-10-09 13:30:00+00:00  1229.939941  257.359985  224.065002  244.850006   \n",
      "2025-10-09 14:30:00+00:00  1227.199951  255.119995  223.100006  241.462799   \n",
      "2025-10-09 15:30:00+00:00  1230.979980  254.610001  224.369995  242.130005   \n",
      "2025-10-09 16:30:00+00:00  1235.579956  254.009995  224.440002  242.020004   \n",
      "2025-10-09 17:30:00+00:00  1232.000854  253.729996  226.270004  241.509995   \n",
      "\n",
      "Price                                               ...        Open  \\\n",
      "Ticker                           META         NFLX  ...        AAPL   \n",
      "Datetime                                            ...               \n",
      "2025-10-09 13:30:00+00:00  719.989990  1232.114990  ...  257.329987   \n",
      "2025-10-09 14:30:00+00:00  719.820007  1229.989990  ...  254.580002   \n",
      "2025-10-09 15:30:00+00:00  728.797974  1231.969971  ...  254.470001   \n",
      "2025-10-09 16:30:00+00:00  727.385010  1235.579956  ...  253.880005   \n",
      "2025-10-09 17:30:00+00:00  730.476013  1236.500000  ...  253.729996   \n",
      "\n",
      "Price                                                                       \\\n",
      "Ticker                           AMZN        GOOG        META         NFLX   \n",
      "Datetime                                                                     \n",
      "2025-10-09 13:30:00+00:00  224.009995  244.580002  718.539978  1213.130005   \n",
      "2025-10-09 14:30:00+00:00  222.110001  241.300003  717.519897  1229.744995   \n",
      "2025-10-09 15:30:00+00:00  223.294998  240.324997  723.549988  1230.380005   \n",
      "2025-10-09 16:30:00+00:00  224.289993  241.884995  726.575012  1230.619995   \n",
      "2025-10-09 17:30:00+00:00  223.899994  241.279999  727.629517  1236.300049   \n",
      "\n",
      "Price                       Volume                                      \n",
      "Ticker                        AAPL      AMZN     GOOG     META    NFLX  \n",
      "Datetime                                                                \n",
      "2025-10-09 13:30:00+00:00  8612385  10710625  5015274  2955374  803095  \n",
      "2025-10-09 14:30:00+00:00  4441161   5438165  4216186  1519280  329218  \n",
      "2025-10-09 15:30:00+00:00  4409804   4286832  1908924  1857658  184395  \n",
      "2025-10-09 16:30:00+00:00  2710789   2718786   898451  1148043  457057  \n",
      "2025-10-09 17:30:00+00:00  2363786   5200414  1187531  1144250  157293  \n",
      "\n",
      "[5 rows x 25 columns]\n"
     ]
    },
    {
     "name": "stderr",
     "output_type": "stream",
     "text": [
      "\n"
     ]
    }
   ],
   "source": [
    "import yfinance as yf\n",
    "import pandas as pd\n",
    "\n",
    "# create tickers\n",
    "\n",
    "tickers = [\"META\", \"AAPL\", \"AMZN\", \"NFLX\", \"GOOG\"]\n",
    "\n",
    "data = yf.download(tickers, interval=\"1h\", period=\"5d\")\n",
    "\n",
    "print(data.head())\n",
    "\n"
   ]
  },
  {
   "cell_type": "code",
   "execution_count": 9,
   "id": "9174edfb",
   "metadata": {},
   "outputs": [
    {
     "name": "stderr",
     "output_type": "stream",
     "text": [
      "C:\\Users\\daveb\\AppData\\Local\\Temp\\ipykernel_20304\\374070458.py:6: FutureWarning: YF.download() has changed argument auto_adjust default to True\n",
      "  data = yf.download(tickers, interval=\"1h\", period=\"5d\")\n",
      "[*********************100%***********************]  5 of 5 completed"
     ]
    },
    {
     "name": "stdout",
     "output_type": "stream",
     "text": [
      "The data has been saved\n"
     ]
    },
    {
     "name": "stderr",
     "output_type": "stream",
     "text": [
      "\n"
     ]
    }
   ],
   "source": [
    "timestamp = now.strftime(\"%Y%m%d-%H%M%S\")\n",
    "file = f\"data/{timestamp}.csv\" # creates csv file with timestamp name\n",
    "\n",
    "tickers = [\"META\", \"AAPL\", \"AMZN\", \"NFLX\", \"GOOG\"]\n",
    "\n",
    "data = yf.download(tickers, interval=\"1h\", period=\"5d\")\n",
    "\n",
    "data.to_csv(file)\n",
    "\n",
    "print(f\"The data has been saved\")"
   ]
  },
  {
   "cell_type": "markdown",
   "id": "4836b057",
   "metadata": {},
   "source": [
    "## Problem 2\n",
    "\n",
    "**Write a function called `plot_data()` that opens the latest data file in the `data` folder and, on one plot, plots the `Close` prices for each of the five stocks. The plot should include axis labels, a legend, and the date as a title. The function should save the plot into a `plots` folder in the root of your repository using a filename in the format `YYYYMMDD-HHmmss.png`. Create the `plots` folder if you don't already have one.**\n",
    "\n"
   ]
  },
  {
   "cell_type": "markdown",
   "id": "7570177d",
   "metadata": {},
   "source": [
    "reference - https://www.w3schools.com/python/ref_list_sort.asp\n",
    "\n",
    "*clean up later*"
   ]
  },
  {
   "cell_type": "code",
   "execution_count": 15,
   "id": "fa99f6e0",
   "metadata": {},
   "outputs": [
    {
     "data": {
      "image/png": "[encoded data removed]",
      "text/plain": [
       "<Figure size 1000x600 with 1 Axes>"
      ]
     },
     "metadata": {},
     "output_type": "display_data"
    }
   ],
   "source": [
    "\n",
    "\n",
    "import pandas as pd\n",
    "import matplotlib.pyplot as plt\n",
    "from datetime import datetime\n",
    "import numpy as np\n",
    "import os\n",
    "\n",
    "# back to basics\n",
    "\n",
    "\n",
    "x = np.linspace(0, 10, 100)\n",
    "y = np.sin(x)\n",
    "\n",
    "plt.figure(figsize=(10, 6))\n",
    "plt.plot(x, y, label='example')\n",
    "plt.xlabel('X-axis')\n",
    "plt.ylabel('Y-axis')\n",
    "plt.title('Basic Plot Example')\n",
    "\n",
    "timestamp = now.strftime(\"%Y%m%d-%H%M%S\")\n",
    "file_path = f\"plots/basic_plot_{timestamp}.png\"\n",
    "os.makedirs(\"plots\", exist_ok=True)\n",
    "plt.savefig(file_path)\n",
    "    \n",
    "    \n",
    "\n",
    "\n"
   ]
  }
 ],
 "metadata": {
  "kernelspec": {
   "display_name": "base",
   "language": "python",
   "name": "python3"
  },
  "language_info": {
   "codemirror_mode": {
    "name": "ipython",
    "version": 3
   },
   "file_extension": ".py",
   "mimetype": "text/x-python",
   "name": "python",
   "nbconvert_exporter": "python",
   "pygments_lexer": "ipython3",
   "version": "3.12.7"
  }
 },
 "nbformat": 4,
 "nbformat_minor": 5
}
