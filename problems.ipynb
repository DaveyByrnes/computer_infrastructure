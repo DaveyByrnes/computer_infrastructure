{
 "cells": [
  {
   "cell_type": "markdown",
   "id": "ccc5c185",
   "metadata": {},
   "source": [
    "# Problem Notebook\n",
    "\n",
    "By David Byrne\n",
    "\n",
    "## Note to author:\n",
    "\n",
    "Use proper levelled markdown headings to identify between problems. Use small cells. Write clean, readable and efficient code with meaningful variable names and consistent formatting. Remove this sub-heading for deadline."
   ]
  },
  {
   "cell_type": "markdown",
   "id": "ed187a64",
   "metadata": {},
   "source": []
  }
 ],
 "metadata": {
  "language_info": {
   "name": "python"
  }
 },
 "nbformat": 4,
 "nbformat_minor": 5
}
