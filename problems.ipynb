{
 "cells": [
  {
   "cell_type": "markdown",
   "id": "ccc5c185",
   "metadata": {},
   "source": [
    "# Problem Notebook\n",
    "\n",
    "By David Byrne\n",
    "\n",
    "## Note to author:\n",
    "\n",
    "Use proper levelled markdown headings to identify between problems. Use small cells. Write clean, readable and efficient code with meaningful variable names and consistent formatting. Remove this sub-heading for deadline."
   ]
  },
  {
   "cell_type": "markdown",
   "id": "105f335c",
   "metadata": {},
   "source": []
  },
  {
   "cell_type": "code",
   "execution_count": null,
   "id": "e5801de0",
   "metadata": {},
   "outputs": [],
   "source": []
  },
  {
   "cell_type": "markdown",
   "id": "ed187a64",
   "metadata": {},
   "source": [
    "## Problem 1\n",
    "\n",
    "**Using the yfinance Python package, write a function called get_data() that downloads all hourly data for the previous five days for the five FAANG stocks:**\n",
    "\n",
    "* Facebook (META)\n",
    "* Apple (AAPL)\n",
    "* Amazon (AMZN)\n",
    "* Netflix (NFLX)\n",
    "* Google (GOOG)\n",
    "\n",
    "\n",
    "**The function should save the data into a folder called data in the root of your repository using a filename with the format YYYYMMDD-HHmmss.csv where YYYYMMDD is the four-digit year (e.g. 2025), followed by the two-digit month (e.g. 09 for September), followed by the two digit day, and HHmmss is hour, minutes, seconds. Create the data folder if you don't already have one.**\n"
   ]
  },
  {
   "cell_type": "markdown",
   "id": "17313baa",
   "metadata": {},
   "source": [
    "### Problem Solving\n",
    "\n",
    "**File Creation**\n",
    "\n",
    "1. I created my `data` folder.\n",
    "2. Next, I imported `datetime` to begin creating\n",
    "3. I looked online to find further information about using `datetime` effectively - see [Programiz documentation](https://www.programiz.com/python-programming/datetime/strftime). \n",
    "\n"
   ]
  },
  {
   "cell_type": "markdown",
   "id": "ea1e2c95",
   "metadata": {},
   "source": [
    "**Using yfinance**\n",
    "\n",
    "1. I installed `yfinance`\n",
    "2. I researched on using `yfinance`, finding documentation on [Geeks for Geeks](https://www.geeksforgeeks.org/python/how-to-use-yfinance-api-with-python/).\n",
    "3. Following documentation, I defined the tickers and created a data function to quickly draw up the required info about each ticker."
   ]
  },
  {
   "cell_type": "markdown",
   "id": "61468128",
   "metadata": {},
   "source": [
    "**Combining File Creation & yfinance**\n"
   ]
  },
  {
   "cell_type": "code",
   "execution_count": null,
   "id": "87f3de9b",
   "metadata": {},
   "outputs": [],
   "source": []
  },
  {
   "cell_type": "code",
   "execution_count": 7,
   "id": "1da6a454",
   "metadata": {},
   "outputs": [
    {
     "name": "stdout",
     "output_type": "stream",
     "text": [
      "20250930-183231\n"
     ]
    }
   ],
   "source": [
    "from datetime import datetime\n",
    "import os\n",
    "# Datetime is to give the filenames their necessary year, month, days, hours, minutes and seconds\n",
    "\n",
    "now = datetime.now()\n",
    "\n",
    "timestamp = now.strftime(\"%Y%m%d-%H%M%S\")\n",
    "print(timestamp)\n",
    "\n",
    "file = f\"data/{timestamp}.csv\" # creates csv file with timestamp name\n",
    "\n",
    "with open(file, \"w\") as f:\n",
    "    f.write(\"Test please work\")"
   ]
  },
  {
   "cell_type": "code",
   "execution_count": 8,
   "id": "87fb6bb1",
   "metadata": {},
   "outputs": [
    {
     "name": "stdout",
     "output_type": "stream",
     "text": [
      "Requirement already satisfied: yfinance in /usr/local/python/3.12.1/lib/python3.12/site-packages (0.2.66)\n",
      "Requirement already satisfied: pandas>=1.3.0 in /home/codespace/.local/lib/python3.12/site-packages (from yfinance) (2.3.1)\n",
      "Requirement already satisfied: numpy>=1.16.5 in /home/codespace/.local/lib/python3.12/site-packages (from yfinance) (2.3.1)\n",
      "Requirement already satisfied: requests>=2.31 in /home/codespace/.local/lib/python3.12/site-packages (from yfinance) (2.32.4)\n",
      "Requirement already satisfied: multitasking>=0.0.7 in /usr/local/python/3.12.1/lib/python3.12/site-packages (from yfinance) (0.0.12)\n",
      "Requirement already satisfied: platformdirs>=2.0.0 in /home/codespace/.local/lib/python3.12/site-packages (from yfinance) (4.3.8)\n",
      "Requirement already satisfied: pytz>=2022.5 in /home/codespace/.local/lib/python3.12/site-packages (from yfinance) (2025.2)\n",
      "Requirement already satisfied: frozendict>=2.3.4 in /usr/local/python/3.12.1/lib/python3.12/site-packages (from yfinance) (2.4.6)\n",
      "Requirement already satisfied: peewee>=3.16.2 in /usr/local/python/3.12.1/lib/python3.12/site-packages (from yfinance) (3.18.2)\n",
      "Requirement already satisfied: beautifulsoup4>=4.11.1 in /home/codespace/.local/lib/python3.12/site-packages (from yfinance) (4.13.4)\n",
      "Requirement already satisfied: curl_cffi>=0.7 in /usr/local/python/3.12.1/lib/python3.12/site-packages (from yfinance) (0.13.0)\n",
      "Requirement already satisfied: protobuf>=3.19.0 in /usr/local/python/3.12.1/lib/python3.12/site-packages (from yfinance) (6.32.1)\n",
      "Requirement already satisfied: websockets>=13.0 in /usr/local/python/3.12.1/lib/python3.12/site-packages (from yfinance) (15.0.1)\n",
      "Requirement already satisfied: soupsieve>1.2 in /home/codespace/.local/lib/python3.12/site-packages (from beautifulsoup4>=4.11.1->yfinance) (2.7)\n",
      "Requirement already satisfied: typing-extensions>=4.0.0 in /home/codespace/.local/lib/python3.12/site-packages (from beautifulsoup4>=4.11.1->yfinance) (4.14.1)\n",
      "Requirement already satisfied: cffi>=1.12.0 in /home/codespace/.local/lib/python3.12/site-packages (from curl_cffi>=0.7->yfinance) (1.17.1)\n",
      "Requirement already satisfied: certifi>=2024.2.2 in /home/codespace/.local/lib/python3.12/site-packages (from curl_cffi>=0.7->yfinance) (2025.7.9)\n",
      "Requirement already satisfied: pycparser in /home/codespace/.local/lib/python3.12/site-packages (from cffi>=1.12.0->curl_cffi>=0.7->yfinance) (2.22)\n",
      "Requirement already satisfied: python-dateutil>=2.8.2 in /home/codespace/.local/lib/python3.12/site-packages (from pandas>=1.3.0->yfinance) (2.9.0.post0)\n",
      "Requirement already satisfied: tzdata>=2022.7 in /home/codespace/.local/lib/python3.12/site-packages (from pandas>=1.3.0->yfinance) (2025.2)\n",
      "Requirement already satisfied: six>=1.5 in /home/codespace/.local/lib/python3.12/site-packages (from python-dateutil>=2.8.2->pandas>=1.3.0->yfinance) (1.17.0)\n",
      "Requirement already satisfied: charset_normalizer<4,>=2 in /home/codespace/.local/lib/python3.12/site-packages (from requests>=2.31->yfinance) (3.4.2)\n",
      "Requirement already satisfied: idna<4,>=2.5 in /home/codespace/.local/lib/python3.12/site-packages (from requests>=2.31->yfinance) (3.10)\n",
      "Requirement already satisfied: urllib3<3,>=1.21.1 in /home/codespace/.local/lib/python3.12/site-packages (from requests>=2.31->yfinance) (2.5.0)\n",
      "\n",
      "\u001b[1m[\u001b[0m\u001b[34;49mnotice\u001b[0m\u001b[1;39;49m]\u001b[0m\u001b[39;49m A new release of pip is available: \u001b[0m\u001b[31;49m25.1.1\u001b[0m\u001b[39;49m -> \u001b[0m\u001b[32;49m25.2\u001b[0m\n",
      "\u001b[1m[\u001b[0m\u001b[34;49mnotice\u001b[0m\u001b[1;39;49m]\u001b[0m\u001b[39;49m To update, run: \u001b[0m\u001b[32;49mpython -m pip install --upgrade pip\u001b[0m\n",
      "Note: you may need to restart the kernel to use updated packages.\n"
     ]
    }
   ],
   "source": [
    "%pip install yfinance"
   ]
  },
  {
   "cell_type": "code",
   "execution_count": 10,
   "id": "30aa6742",
   "metadata": {},
   "outputs": [
    {
     "name": "stderr",
     "output_type": "stream",
     "text": [
      "/tmp/ipykernel_2096/1304065108.py:8: FutureWarning: YF.download() has changed argument auto_adjust default to True\n",
      "  data = yf.download(tickers, interval=\"1h\", period=\"5d\")\n",
      "[*********************100%***********************]  5 of 5 completed"
     ]
    },
    {
     "name": "stdout",
     "output_type": "stream",
     "text": [
      "Price                           Close                                      \\\n",
      "Ticker                           AAPL        AMZN        GOOG        META   \n",
      "Datetime                                                                    \n",
      "2025-09-24 13:30:00+00:00  252.621994  221.139999  250.119904  757.179993   \n",
      "2025-09-24 14:30:00+00:00  252.119995  221.139893  250.339996  757.739990   \n",
      "2025-09-24 15:30:00+00:00  252.164993  220.889999  249.440002  757.109985   \n",
      "2025-09-24 16:30:00+00:00  251.490005  220.919998  249.404999  754.899902   \n",
      "2025-09-24 17:30:00+00:00  251.764999  220.085007  247.869995  755.164978   \n",
      "\n",
      "Price                                         High                          \\\n",
      "Ticker                            NFLX        AAPL        AMZN        GOOG   \n",
      "Datetime                                                                     \n",
      "2025-09-24 13:30:00+00:00  1210.735596  255.369995  224.000000  252.570007   \n",
      "2025-09-24 14:30:00+00:00  1197.540039  252.990005  221.830002  250.940002   \n",
      "2025-09-24 15:30:00+00:00  1198.550049  252.259995  221.100006  250.350006   \n",
      "2025-09-24 16:30:00+00:00  1200.000000  252.259995  221.050003  249.580002   \n",
      "2025-09-24 17:30:00+00:00  1198.459961  252.110001  221.199997  249.529999   \n",
      "\n",
      "Price                                               ...        Open  \\\n",
      "Ticker                           META         NFLX  ...        AAPL   \n",
      "Datetime                                            ...               \n",
      "2025-09-24 13:30:00+00:00  760.489990  1221.500000  ...  255.000000   \n",
      "2025-09-24 14:30:00+00:00  759.919983  1211.500000  ...  252.625000   \n",
      "2025-09-24 15:30:00+00:00  758.750000  1202.779907  ...  252.119995   \n",
      "2025-09-24 16:30:00+00:00  757.369995  1203.139893  ...  252.171402   \n",
      "2025-09-24 17:30:00+00:00  756.000000  1202.590942  ...  251.514999   \n",
      "\n",
      "Price                                                                       \\\n",
      "Ticker                           AMZN        GOOG        META         NFLX   \n",
      "Datetime                                                                     \n",
      "2025-09-24 13:30:00+00:00  224.000000  252.250000  760.000000  1221.000000   \n",
      "2025-09-24 14:30:00+00:00  221.119995  250.089996  757.049988  1210.119995   \n",
      "2025-09-24 15:30:00+00:00  221.100006  250.350006  757.500000  1197.619995   \n",
      "2025-09-24 16:30:00+00:00  220.884903  249.449997  757.167480  1198.670044   \n",
      "2025-09-24 17:30:00+00:00  220.910202  249.410004  754.890015  1200.150024   \n",
      "\n",
      "Price                       Volume                                     \n",
      "Ticker                        AAPL     AMZN     GOOG     META    NFLX  \n",
      "Datetime                                                               \n",
      "2025-09-24 13:30:00+00:00  6502958  9175073  3058924  1609694  325687  \n",
      "2025-09-24 14:30:00+00:00  3291728  4483547  1097733   825114  233121  \n",
      "2025-09-24 15:30:00+00:00  3045221  3866159  1259044   575240  315827  \n",
      "2025-09-24 16:30:00+00:00  1637321  2500210   613453   464628  146907  \n",
      "2025-09-24 17:30:00+00:00  1622724  2386130   931306   384280  178909  \n",
      "\n",
      "[5 rows x 25 columns]\n"
     ]
    },
    {
     "name": "stderr",
     "output_type": "stream",
     "text": [
      "\n"
     ]
    }
   ],
   "source": [
    "import yfinance as yf\n",
    "import pandas as pd\n",
    "\n",
    "# create tickers\n",
    "\n",
    "tickers = [\"META\", \"AAPL\", \"AMZN\", \"NFLX\", \"GOOG\"]\n",
    "\n",
    "data = yf.download(tickers, interval=\"1h\", period=\"5d\")\n",
    "\n",
    "print(data.head())\n",
    "\n"
   ]
  },
  {
   "cell_type": "code",
   "execution_count": 11,
   "id": "9174edfb",
   "metadata": {},
   "outputs": [
    {
     "name": "stderr",
     "output_type": "stream",
     "text": [
      "/tmp/ipykernel_2096/374070458.py:6: FutureWarning: YF.download() has changed argument auto_adjust default to True\n",
      "  data = yf.download(tickers, interval=\"1h\", period=\"5d\")\n",
      "[*********************100%***********************]  5 of 5 completed"
     ]
    },
    {
     "name": "stdout",
     "output_type": "stream",
     "text": [
      "The data has been saved\n"
     ]
    },
    {
     "name": "stderr",
     "output_type": "stream",
     "text": [
      "\n"
     ]
    }
   ],
   "source": [
    "timestamp = now.strftime(\"%Y%m%d-%H%M%S\")\n",
    "file = f\"data/{timestamp}.csv\" # creates csv file with timestamp name\n",
    "\n",
    "tickers = [\"META\", \"AAPL\", \"AMZN\", \"NFLX\", \"GOOG\"]\n",
    "\n",
    "data = yf.download(tickers, interval=\"1h\", period=\"5d\")\n",
    "\n",
    "data.to_csv(file)\n",
    "\n",
    "print(f\"The data has been saved\")"
   ]
  }
 ],
 "metadata": {
  "kernelspec": {
   "display_name": "Python 3",
   "language": "python",
   "name": "python3"
  },
  "language_info": {
   "codemirror_mode": {
    "name": "ipython",
    "version": 3
   },
   "file_extension": ".py",
   "mimetype": "text/x-python",
   "name": "python",
   "nbconvert_exporter": "python",
   "pygments_lexer": "ipython3",
   "version": "3.12.1"
  }
 },
 "nbformat": 4,
 "nbformat_minor": 5
}
